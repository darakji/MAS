{
 "cells": [
  {
   "cell_type": "markdown",
   "id": "d6ba3d8f-d3d1-4fdc-82cf-084cea2e438d",
   "metadata": {},
   "source": [
    "Would be testing some usecase here"
   ]
  },
  {
   "cell_type": "code",
   "execution_count": 22,
   "id": "5f9cdac7-182f-474c-a4fe-5b4083647232",
   "metadata": {},
   "outputs": [
    {
     "name": "stdout",
     "output_type": "stream",
     "text": [
      "cpu\n"
     ]
    }
   ],
   "source": [
    "from kan import *\n",
    "\n",
    "device = torch.device('cuda' if torch.cuda.is_available() else 'cpu')\n",
    "print(device)"
   ]
  },
  {
   "cell_type": "code",
   "execution_count": 23,
   "id": "1bdf7ae5-5f86-45d1-94fc-69e6eca71cf9",
   "metadata": {},
   "outputs": [
    {
     "name": "stdout",
     "output_type": "stream",
     "text": [
      "checkpoint directory created: ./model\n",
      "saving model version 0.0\n"
     ]
    }
   ],
   "source": [
    "# initialize KAN with G=3\n",
    "model = KAN(width=[2,1,1], grid=3, k=3, seed=1, device=device)\n",
    "\n",
    "# create dataset\n",
    "f = lambda x: torch.exp(torch.sin(torch.pi*x[:,[0]]) + x[:,[1]]**2)\n",
    "dataset = create_dataset(f, n_var=2, device=device)"
   ]
  },
  {
   "cell_type": "code",
   "execution_count": 24,
   "id": "7133f9e4-277c-48ae-b910-58065bdff9ff",
   "metadata": {},
   "outputs": [
    {
     "name": "stderr",
     "output_type": "stream",
     "text": [
      "| train_loss: 1.59e+00 | test_loss: 1.50e+00 | reg: 7.49e+00 | : 100%|█| 20/20 [00:00<00:00, 109.75i"
     ]
    },
    {
     "name": "stdout",
     "output_type": "stream",
     "text": [
      "saving model version 0.1\n"
     ]
    },
    {
     "name": "stderr",
     "output_type": "stream",
     "text": [
      "\n"
     ]
    }
   ],
   "source": [
    "model.fit(dataset, opt=\"Adam\", steps=20);"
   ]
  },
  {
   "cell_type": "code",
   "execution_count": 25,
   "id": "d588fb06-06e6-4d70-ae33-7a0ca3e92cd6",
   "metadata": {},
   "outputs": [
    {
     "name": "stdout",
     "output_type": "stream",
     "text": [
      "saving model version 0.2\n"
     ]
    }
   ],
   "source": [
    "# initialize a more fine-grained KAN with G=10\n",
    "model = model.refine(10)"
   ]
  },
  {
   "cell_type": "code",
   "execution_count": 26,
   "id": "4a24dc14-8dce-42df-ada6-aac8671735b5",
   "metadata": {},
   "outputs": [
    {
     "name": "stderr",
     "output_type": "stream",
     "text": [
      "| train_loss: 1.12e+00 | test_loss: 1.13e+00 | reg: 1.70e+01 | : 100%|█| 20/20 [00:00<00:00, 136.86i"
     ]
    },
    {
     "name": "stdout",
     "output_type": "stream",
     "text": [
      "saving model version 0.3\n"
     ]
    },
    {
     "name": "stderr",
     "output_type": "stream",
     "text": [
      "\n"
     ]
    }
   ],
   "source": [
    "model.fit(dataset, opt=\"Adam\", steps=20);"
   ]
  },
  {
   "cell_type": "code",
   "execution_count": 28,
   "id": "6b9d4249-a2b9-483b-9577-f097b14f20b1",
   "metadata": {},
   "outputs": [
    {
     "name": "stdout",
     "output_type": "stream",
     "text": [
      "checkpoint directory created: ./model\n",
      "saving model version 0.0\n"
     ]
    },
    {
     "name": "stderr",
     "output_type": "stream",
     "text": [
      "| train_loss: 1.35e-02 | test_loss: 1.39e-02 | reg: 1.17e+01 | : 100%|█| 200/200 [00:08<00:00, 23.93\n"
     ]
    },
    {
     "name": "stdout",
     "output_type": "stream",
     "text": [
      "saving model version 0.1\n",
      "saving model version 0.2\n"
     ]
    },
    {
     "name": "stderr",
     "output_type": "stream",
     "text": [
      "| train_loss: 4.66e-04 | test_loss: 4.89e-04 | reg: 1.17e+01 | : 100%|█| 200/200 [00:06<00:00, 30.44\n"
     ]
    },
    {
     "name": "stdout",
     "output_type": "stream",
     "text": [
      "saving model version 0.3\n",
      "saving model version 0.4\n"
     ]
    },
    {
     "name": "stderr",
     "output_type": "stream",
     "text": [
      "| train_loss: 4.21e-05 | test_loss: 5.68e-05 | reg: 1.17e+01 | : 100%|█| 200/200 [00:08<00:00, 23.91\n"
     ]
    },
    {
     "name": "stdout",
     "output_type": "stream",
     "text": [
      "saving model version 0.5\n",
      "saving model version 0.6\n"
     ]
    },
    {
     "name": "stderr",
     "output_type": "stream",
     "text": [
      "| train_loss: 3.02e-04 | test_loss: 6.29e-04 | reg: 1.17e+01 | : 100%|█| 200/200 [00:14<00:00, 13.82\n"
     ]
    },
    {
     "name": "stdout",
     "output_type": "stream",
     "text": [
      "saving model version 0.7\n",
      "saving model version 0.8\n"
     ]
    },
    {
     "name": "stderr",
     "output_type": "stream",
     "text": [
      "| train_loss: 6.57e-03 | test_loss: 2.09e-02 | reg: 1.18e+01 | : 100%|█| 200/200 [00:23<00:00,  8.45"
     ]
    },
    {
     "name": "stdout",
     "output_type": "stream",
     "text": [
      "saving model version 0.9\n"
     ]
    },
    {
     "name": "stderr",
     "output_type": "stream",
     "text": [
      "\n"
     ]
    }
   ],
   "source": [
    "grids = np.array([3,10,20,50,100])\n",
    "\n",
    "\n",
    "train_losses = []\n",
    "test_losses = []\n",
    "steps = 200\n",
    "k = 3\n",
    "\n",
    "for i in range(grids.shape[0]):\n",
    "    if i == 0:\n",
    "        model = KAN(width=[2,1,1], grid=grids[i], k=k, seed=1, device=device)\n",
    "    if i != 0:\n",
    "        model = model.refine(grids[i])\n",
    "    results = model.fit(dataset, opt=\"LBFGS\", steps=steps)\n",
    "    train_losses += results['train_loss']\n",
    "    test_losses += results['test_loss']"
   ]
  },
  {
   "cell_type": "code",
   "execution_count": 29,
   "id": "ed83b688-54b4-4f28-bd2c-41da2a52a4e8",
   "metadata": {},
   "outputs": [
    {
     "data": {
      "image/png": "[encoded data removed]",
      "text/plain": [
       "<Figure size 640x480 with 1 Axes>"
      ]
     },
     "metadata": {},
     "output_type": "display_data"
    }
   ],
   "source": [
    "plt.plot(train_losses)\n",
    "plt.plot(test_losses)\n",
    "plt.legend(['train', 'test'])\n",
    "plt.ylabel('RMSE')\n",
    "plt.xlabel('step')\n",
    "plt.yscale('log')"
   ]
  },
  {
   "cell_type": "code",
   "execution_count": null,
   "id": "a05699e2-93ce-40bd-a14d-25a26115f406",
   "metadata": {},
   "outputs": [],
   "source": []
  }
 ],
 "metadata": {
  "kernelspec": {
   "display_name": "Python 3 (ipykernel)",
   "language": "python",
   "name": "python3"
  },
  "language_info": {
   "codemirror_mode": {
    "name": "ipython",
    "version": 3
   },
   "file_extension": ".py",
   "mimetype": "text/x-python",
   "name": "python",
   "nbconvert_exporter": "python",
   "pygments_lexer": "ipython3",
   "version": "3.10.12"
  }
 },
 "nbformat": 4,
 "nbformat_minor": 5
}
